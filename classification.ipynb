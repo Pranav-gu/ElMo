{
 "cells": [
  {
   "cell_type": "code",
   "execution_count": 1,
   "metadata": {},
   "outputs": [
    {
     "name": "stderr",
     "output_type": "stream",
     "text": [
      "[nltk_data] Downloading package punkt to /home/pranav/nltk_data...\n",
      "[nltk_data]   Package punkt is already up-to-date!\n"
     ]
    },
    {
     "data": {
      "text/plain": [
       "True"
      ]
     },
     "execution_count": 1,
     "metadata": {},
     "output_type": "execute_result"
    }
   ],
   "source": [
    "import pandas as pd\n",
    "import re\n",
    "import nltk\n",
    "import numpy as np\n",
    "from collections import Counter\n",
    "from sklearn.metrics import accuracy_score, precision_score, recall_score, f1_score, confusion_matrix\n",
    "import torch\n",
    "from torch.utils.data import DataLoader, TensorDataset\n",
    "import torch.nn as nn\n",
    "import torch.optim as optim\n",
    "from tqdm import tqdm\n",
    "from nltk.tokenize import word_tokenize\n",
    "nltk.download('punkt')"
   ]
  },
  {
   "cell_type": "code",
   "execution_count": 3,
   "metadata": {},
   "outputs": [],
   "source": [
    "train_csv_file = 'train.csv'\n",
    "test_csv_file = 'test.csv'\n",
    "\n",
    "train_data = pd.read_csv(train_csv_file)\n",
    "test_data = pd.read_csv(test_csv_file)\n",
    "\n",
    "dev_set_size = 7600\n",
    "train_set = train_data.iloc[dev_set_size:]\n",
    "dev_set = train_data.iloc[:dev_set_size]\n",
    "\n",
    "train_sentences = train_set['Description'].tolist()\n",
    "train_labels = train_set['Class Index'].tolist()\n",
    "dev_sentences = dev_set['Description'].tolist()\n",
    "dev_labels = dev_set['Class Index'].tolist()\n",
    "test_sentences = test_data['Description'].tolist()\n",
    "test_labels = test_data['Class Index'].tolist()\n",
    "\n",
    "def clean_sentence(sentence):\n",
    "    sentence = sentence.lower()\n",
    "    sentence = re.sub(r'[^a-zA-Z\\s]', '', sentence)\n",
    "    tokens = sentence.split()\n",
    "    return ' '.join(tokens)\n",
    "\n",
    "train_sentences_cleaned = [clean_sentence(sentence) for sentence in train_sentences]\n",
    "dev_sentences_cleaned = [clean_sentence(sentence) for sentence in dev_sentences]\n",
    "test_sentences_cleaned = [clean_sentence(sentence) for sentence in test_sentences]\n",
    "\n",
    "train_sentences_tokenized = [word_tokenize(sentence) for sentence in train_sentences_cleaned]\n",
    "dev_sentences_tokenized = [word_tokenize(sentence) for sentence in dev_sentences_cleaned]\n",
    "test_sentences_tokenized = [word_tokenize(sentence) for sentence in test_sentences_cleaned]\n",
    "\n",
    "train_data = pd.read_csv('train.csv')\n",
    "length = []\n",
    "for i in range(len(train_data['Description'])):\n",
    "    sentence = re.findall(r\"[\\w']+|[.,!?;'-]\", train_data['Description'][i])\n",
    "    length.append(len(sentence))\n",
    "length.sort()\n",
    "max_seq_length = length[int(0.95*len(length))]+1\n",
    "\n",
    "\n",
    "def pad_sequences(sentences, max_length):\n",
    "    padded_sentences = []\n",
    "    for sentence in sentences:\n",
    "        if len(sentence) >= max_length:\n",
    "            padded_sentences.append(sentence[:max_length])\n",
    "        else:\n",
    "            padded_sentences.append(sentence + ['<PAD>'] * (max_length - len(sentence)))\n",
    "    return padded_sentences\n",
    "\n",
    "train_sentences_padded = pad_sequences(train_sentences_tokenized, max_seq_length)\n",
    "dev_sentences_padded = pad_sequences(dev_sentences_tokenized, max_seq_length)\n",
    "test_sentences_padded = pad_sequences(test_sentences_tokenized, max_seq_length)"
   ]
  },
  {
   "cell_type": "code",
   "execution_count": 4,
   "metadata": {},
   "outputs": [
    {
     "name": "stdout",
     "output_type": "stream",
     "text": [
      "Train Set Sentences (Padded):\n",
      "[['such', 'an', 'embarrassment', 'of', 'riches', 'apple', 'macintosh', 'users', 'have', 'two', 'new', 'web', 'browsers', 'to', 'choose', 'from', 'it', 's', 'a', 'curious', 'market', 'all', 'macs', 'come', 'with', 'two', 'free', 'browsers', 'microsoft', 's', 'internet', 'explorer', 'and', 'apple', 's', 'own', 'slick', 'and', 'elegant', 'safari', '<PAD>', '<PAD>', '<PAD>', '<PAD>', '<PAD>', '<PAD>', '<PAD>', '<PAD>', '<PAD>', '<PAD>', '<PAD>', '<PAD>', '<PAD>', '<PAD>', '<PAD>', '<PAD>', '<PAD>', '<PAD>', '<PAD>', '<PAD>'], ['the', 'women', 's', 'gold', 'medallist', 'in', 'shot', 'put', 'irina', 'korzhanenko', 'has', 'been', 'disqualified', 'from', 'the', 'olympics', 'and', 'stripped', 'of', 'her', 'medal', 'after', 'testing', 'positive', 'for', 'doping', '<PAD>', '<PAD>', '<PAD>', '<PAD>', '<PAD>', '<PAD>', '<PAD>', '<PAD>', '<PAD>', '<PAD>', '<PAD>', '<PAD>', '<PAD>', '<PAD>', '<PAD>', '<PAD>', '<PAD>', '<PAD>', '<PAD>', '<PAD>', '<PAD>', '<PAD>', '<PAD>', '<PAD>', '<PAD>', '<PAD>', '<PAD>', '<PAD>', '<PAD>', '<PAD>', '<PAD>', '<PAD>', '<PAD>', '<PAD>']]\n",
      "Train Set Labels:\n",
      "[4, 2]\n"
     ]
    }
   ],
   "source": [
    "print(\"Train Set Sentences (Padded):\")\n",
    "print(train_sentences_padded[:2])\n",
    "print(\"Train Set Labels:\")\n",
    "print(train_labels[:2])"
   ]
  },
  {
   "cell_type": "code",
   "execution_count": 5,
   "metadata": {},
   "outputs": [],
   "source": [
    "all_words = [word for sentence in train_sentences_tokenized for word in sentence]\n",
    "word_counts = Counter(all_words)\n",
    "\n",
    "vocab = ['<UNK>', '<PAD>'] + [word for word, count in word_counts.items()]\n",
    "word2idx = {word: idx for idx, word in enumerate(vocab)}\n",
    "idx2word = {idx: word for idx, word in enumerate(vocab)}\n",
    "\n",
    "def sentence_to_indices(sentence, word2idx):\n",
    "    return [word2idx.get(word, word2idx['<UNK>']) for word in sentence]\n",
    "\n",
    "train_indices_elmo = [sentence_to_indices(sentence, word2idx) for sentence in train_sentences_padded]\n",
    "dev_indices_elmo = [sentence_to_indices(sentence, word2idx) for sentence in dev_sentences_padded]\n",
    "test_indices_elmo = [sentence_to_indices(sentence, word2idx) for sentence in test_sentences_padded]"
   ]
  },
  {
   "cell_type": "code",
   "execution_count": 6,
   "metadata": {},
   "outputs": [],
   "source": [
    "device = torch.device('cuda:0' if torch.cuda.is_available() else 'cpu')"
   ]
  },
  {
   "cell_type": "code",
   "execution_count": 7,
   "metadata": {},
   "outputs": [],
   "source": [
    "class ELMo(nn.Module):\n",
    "\n",
    "    def __init__(self, vocab_size, embedding_dim, hidden_dim, embedding_matrix):\n",
    "        super(ELMo, self).__init__()\n",
    "        \n",
    "        self.vocab_size = vocab_size\n",
    "        self.embedding_dim = embedding_dim\n",
    "        self.hidden_dim = hidden_dim\n",
    "\n",
    "        # Embedding Layer, Default- freeze = True\n",
    "        self.embedding = nn.Embedding.from_pretrained(embedding_matrix)\n",
    "\n",
    "        # Forward Language Model\n",
    "        self.lstm_forward1 = nn.LSTM(embedding_dim, hidden_dim, batch_first=True)\n",
    "        self.lstm_forward2 = nn.LSTM(hidden_dim, hidden_dim, batch_first=True)\n",
    "        self.linear_mode1 = nn.Linear(2*hidden_dim, vocab_size)\n",
    "\n",
    "        # Backward Language Model\n",
    "        self.lstm_backward1 = nn.LSTM(embedding_dim, hidden_dim, batch_first=True)\n",
    "        self.lstm_backward2 = nn.LSTM(hidden_dim, hidden_dim, batch_first=True)\n",
    "        self.linear_mode2 = nn.Linear(2*hidden_dim, vocab_size)\n",
    "\n",
    "    def forward(self, input_data):\n",
    "        forward_embed = self.embedding(input_data)\n",
    "        forward_lstm1, _ = self.lstm_forward1(forward_embed)\n",
    "        forward_lstm2, _ = self.lstm_forward2(forward_lstm1)\n",
    "\n",
    "        input_data = torch.flip(input_data, dims=[1])\n",
    "        backward_embed = self.embedding(input_data)\n",
    "        backward_lstm1, _ = self.lstm_backward1(backward_embed)\n",
    "        backward_lstm2, _ = self.lstm_backward2(backward_lstm1)\n",
    "        \n",
    "        # Flip bacward_lstm words, Concatenate forward1 and backward1 outputs\n",
    "        backward_lstm1 = torch.flip(backward_lstm1, dims=[1])\n",
    "        lstm_concat1 = torch.cat((forward_lstm1, backward_lstm1), dim=-1)\n",
    "        \n",
    "        # Concatenate forward2 and backward2 outputs\n",
    "        backward_lstm2 = torch.flip(backward_lstm2, dims=[1])\n",
    "        lstm_concat2 = torch.cat((forward_lstm2, backward_lstm2), dim=-1)\n",
    "\n",
    "        # Concatenate forward and backward embeddings word by word\n",
    "        embedding_concat = torch.cat((forward_embed, forward_embed), dim=-1)\n",
    "        \n",
    "        return embedding_concat, lstm_concat1, lstm_concat2"
   ]
  },
  {
   "cell_type": "code",
   "execution_count": 8,
   "metadata": {},
   "outputs": [],
   "source": [
    "vocab_size = len(vocab)\n",
    "embedding_dim = 100\n",
    "hidden_dim = 100\n",
    "\n",
    "elmo = ELMo(vocab_size, embedding_dim, hidden_dim, torch.rand(vocab_size, embedding_dim)).to(device)"
   ]
  },
  {
   "cell_type": "code",
   "execution_count": 10,
   "metadata": {},
   "outputs": [
    {
     "data": {
      "text/plain": [
       "ELMo(\n",
       "  (embedding): Embedding(81098, 100)\n",
       "  (lstm_forward1): LSTM(100, 100, batch_first=True)\n",
       "  (lstm_forward2): LSTM(100, 100, batch_first=True)\n",
       "  (linear_mode1): Linear(in_features=200, out_features=81098, bias=True)\n",
       "  (lstm_backward1): LSTM(100, 100, batch_first=True)\n",
       "  (lstm_backward2): LSTM(100, 100, batch_first=True)\n",
       "  (linear_mode2): Linear(in_features=200, out_features=81098, bias=True)\n",
       ")"
      ]
     },
     "execution_count": 10,
     "metadata": {},
     "output_type": "execute_result"
    }
   ],
   "source": [
    "elmo.load_state_dict(torch.load('pretrained_elmo.zip', map_location=device))\n",
    "elmo.to(device)"
   ]
  },
  {
   "cell_type": "code",
   "execution_count": 11,
   "metadata": {},
   "outputs": [],
   "source": [
    "train_data_elmo = torch.tensor(train_indices_elmo, dtype=torch.long)\n",
    "dev_data_elmo = torch.tensor(dev_indices_elmo, dtype=torch.long)\n",
    "test_data_elmo = torch.tensor(test_indices_elmo, dtype=torch.long)\n",
    "\n",
    "train_data_with_labels = TensorDataset(train_data_elmo[:100000], torch.tensor(train_labels[:100000], dtype=torch.long))\n",
    "dev_data_with_labels = TensorDataset(dev_data_elmo[:5000], torch.tensor(dev_labels[:5000], dtype=torch.long))\n",
    "test_data_with_labels = TensorDataset(test_data_elmo[:5000], torch.tensor(test_labels[:5000], dtype=torch.long))\n",
    "\n",
    "batch_size = 32\n",
    "\n",
    "train_loader = DataLoader(train_data_with_labels, batch_size=batch_size, shuffle=False)\n",
    "dev_loader = DataLoader(dev_data_with_labels, batch_size=batch_size, shuffle=False)\n",
    "test_loader = DataLoader(test_data_with_labels, batch_size=batch_size, shuffle=False)"
   ]
  },
  {
   "cell_type": "code",
   "execution_count": 12,
   "metadata": {},
   "outputs": [
    {
     "name": "stdout",
     "output_type": "stream",
     "text": [
      "(tensor([[ 2,  3,  4,  5,  6,  7,  8,  9, 10, 11, 12, 13, 14, 15, 16, 17, 18, 19,\n",
      "         20, 21, 22, 23, 24, 25, 26, 11, 27, 14, 28, 19, 29, 30, 31,  7, 19, 32,\n",
      "         33, 31, 34, 35,  1,  1,  1,  1,  1,  1,  1,  1,  1,  1,  1,  1,  1,  1,\n",
      "          1,  1,  1,  1,  1,  1]]), tensor([4]))\n"
     ]
    }
   ],
   "source": [
    "print(train_data_with_labels[:1])"
   ]
  },
  {
   "cell_type": "markdown",
   "metadata": {},
   "source": [
    "## Downstream Task and Hyperparameter Tuning"
   ]
  },
  {
   "cell_type": "code",
   "execution_count": 52,
   "metadata": {},
   "outputs": [],
   "source": [
    "class LSTM(nn.Module):\n",
    "    def __init__(self, output_dim, embedding_dim, hidden_dim, num_layers = 1):\n",
    "        super(LSTM, self).__init__()\n",
    "        self.hidden_dim = hidden_dim\n",
    "        self.num_layers = num_layers\n",
    "        self.lstm = nn.LSTM(embedding_dim, hidden_dim, num_layers, bidirectional=False, batch_first=True)\n",
    "        self.fc = nn.Linear(hidden_dim, output_dim)\n",
    "        self.weights = nn.Parameter(torch.tensor([0.33, 0.33, 0.33], dtype=torch.float32))\n",
    "        self.gamma = nn.Parameter(torch.tensor(1, dtype=torch.float32))\n",
    "\n",
    "\n",
    "    def forward(self, embedding1, embedding2, embedding3):\n",
    "        weights = nn.functional.softmax(self.weights, dim = 0)\n",
    "        x = (embedding3*weights[0] + embedding1*weights[1] + embedding2*weights[2])*self.gamma\n",
    "        batch_size = x.size(0)\n",
    "\n",
    "        h0 = torch.zeros(self.num_layers, batch_size, self.hidden_dim).to(x.device)\n",
    "        c0 = torch.zeros(self.num_layers, batch_size, self.hidden_dim).to(x.device)\n",
    "        \n",
    "        output, (hn, cn) = self.lstm(x, (h0, c0))                            # Initialize hidden state\n",
    "        output_last = output[:, -1]                                          # Take the output from the last time step\n",
    "        output_fc = self.fc(output_last)                                     # Pass it through the fully connected layer\n",
    "        return output_fc"
   ]
  },
  {
   "cell_type": "code",
   "execution_count": 53,
   "metadata": {},
   "outputs": [],
   "source": [
    "output_dim = train_data['Class Index'].unique().shape[0]\n",
    "embedding_dim = 200\n",
    "hidden_dim = 200\n",
    "\n",
    "lstm = LSTM(output_dim, embedding_dim, hidden_dim).to(device)"
   ]
  },
  {
   "cell_type": "code",
   "execution_count": 25,
   "metadata": {},
   "outputs": [],
   "source": [
    "def train_lstm(model,elmo_model, train_loader, optimizer, criterion):\n",
    "    model.train()\n",
    "    total_loss = 0.0\n",
    "    correct = 0\n",
    "    total = 0\n",
    "    elmo_model.eval()\n",
    "\n",
    "    for input_seq, target_seq in tqdm(train_loader):\n",
    "        input_seq = input_seq.to(device)\n",
    "        target_seq = target_seq - 1\n",
    "        target_seq = target_seq.to(device)\n",
    "        optimizer.zero_grad()\n",
    "\n",
    "        embedding1, embedding2, embedding3 = elmo_model(input_seq)\n",
    "\n",
    "        outputs = model(embedding1, embedding2, embedding3)\n",
    "        loss = criterion(outputs, target_seq) \n",
    "        total_loss += loss.item()\n",
    "\n",
    "        loss.backward()\n",
    "        optimizer.step()\n",
    "        predicted = torch.argmax(outputs, dim = 1)\n",
    "        correct += torch.sum(target_seq == predicted).item()\n",
    "        total += target_seq.shape[0]\n",
    "    \n",
    "    avg_loss = total_loss / len(train_loader)\n",
    "    return avg_loss, correct / total"
   ]
  },
  {
   "cell_type": "code",
   "execution_count": 43,
   "metadata": {},
   "outputs": [],
   "source": [
    "def evaluate_lstm(model, elmo_model, dev_loader):\n",
    "    model.eval()\n",
    "\n",
    "    true_labels = []\n",
    "    predicted_labels = []\n",
    "\n",
    "    with torch.no_grad():\n",
    "        for input_seq, target_seq in tqdm(dev_loader):\n",
    "            input_seq = input_seq.to(device)\n",
    "            target_seq = target_seq - 1\n",
    "            target_seq = target_seq.to(device)\n",
    "\n",
    "            embedding1, embedding2, embedding3 = elmo_model(input_seq)\n",
    "\n",
    "            outputs = model(embedding1, embedding2, embedding3)\n",
    "            _, predicted = torch.max(outputs, 1)\n",
    "            true_labels.extend(target_seq.cpu().numpy())\n",
    "            predicted_labels.extend(predicted.cpu().numpy())\n",
    "    return true_labels, predicted_labels"
   ]
  },
  {
   "cell_type": "markdown",
   "metadata": {},
   "source": [
    "#### Trainable Lambdas"
   ]
  },
  {
   "cell_type": "code",
   "execution_count": 64,
   "metadata": {},
   "outputs": [],
   "source": [
    "def evaluation_metrics(true_labels, predicted_labels):\n",
    "    accuracy = accuracy_score(true_labels, predicted_labels)*100\n",
    "    precision = precision_score(predicted_labels, true_labels, average='weighted')*100\n",
    "    recall = recall_score(predicted_labels, true_labels, average='weighted')*100\n",
    "    f1 = f1_score(predicted_labels, true_labels, average='weighted')*100\n",
    "    confusion = confusion_matrix(predicted_labels, true_labels)\n",
    "    print(f\"Accuracy = {accuracy}\")\n",
    "    print(f\"Recall = {recall}\")\n",
    "    print(f\"F1-Score = {f1}\")\n",
    "    print(f\"Precision = {precision}\")\n",
    "    print(f\"Confusion Matrix: \\n{confusion}\\n\")\n",
    "    return"
   ]
  },
  {
   "cell_type": "code",
   "execution_count": 39,
   "metadata": {},
   "outputs": [
    {
     "name": "stderr",
     "output_type": "stream",
     "text": [
      "100%|██████████| 3125/3125 [02:52<00:00, 18.12it/s]\n"
     ]
    },
    {
     "name": "stdout",
     "output_type": "stream",
     "text": [
      "Epoch 1/10 (Train) - Loss: 0.6956 Training Set Accuracy 69.708\n"
     ]
    },
    {
     "name": "stderr",
     "output_type": "stream",
     "text": [
      "100%|██████████| 3125/3125 [02:43<00:00, 19.15it/s]\n"
     ]
    },
    {
     "name": "stdout",
     "output_type": "stream",
     "text": [
      "Epoch 2/10 (Train) - Loss: 0.3190 Training Set Accuracy 88.78\n"
     ]
    },
    {
     "name": "stderr",
     "output_type": "stream",
     "text": [
      "100%|██████████| 3125/3125 [02:59<00:00, 17.36it/s]\n"
     ]
    },
    {
     "name": "stdout",
     "output_type": "stream",
     "text": [
      "Epoch 3/10 (Train) - Loss: 0.2702 Training Set Accuracy 90.593\n"
     ]
    },
    {
     "name": "stderr",
     "output_type": "stream",
     "text": [
      "100%|██████████| 3125/3125 [02:51<00:00, 18.21it/s]\n"
     ]
    },
    {
     "name": "stdout",
     "output_type": "stream",
     "text": [
      "Epoch 4/10 (Train) - Loss: 0.2339 Training Set Accuracy 91.955\n"
     ]
    },
    {
     "name": "stderr",
     "output_type": "stream",
     "text": [
      "100%|██████████| 3125/3125 [02:54<00:00, 17.91it/s]\n"
     ]
    },
    {
     "name": "stdout",
     "output_type": "stream",
     "text": [
      "Epoch 5/10 (Train) - Loss: 0.1995 Training Set Accuracy 93.189\n"
     ]
    },
    {
     "name": "stderr",
     "output_type": "stream",
     "text": [
      "100%|██████████| 3125/3125 [02:58<00:00, 17.55it/s]\n"
     ]
    },
    {
     "name": "stdout",
     "output_type": "stream",
     "text": [
      "Epoch 6/10 (Train) - Loss: 0.1681 Training Set Accuracy 94.316\n"
     ]
    },
    {
     "name": "stderr",
     "output_type": "stream",
     "text": [
      "100%|██████████| 3125/3125 [02:48<00:00, 18.50it/s]\n"
     ]
    },
    {
     "name": "stdout",
     "output_type": "stream",
     "text": [
      "Epoch 7/10 (Train) - Loss: 0.1420 Training Set Accuracy 95.185\n"
     ]
    },
    {
     "name": "stderr",
     "output_type": "stream",
     "text": [
      "100%|██████████| 3125/3125 [02:50<00:00, 18.35it/s]\n"
     ]
    },
    {
     "name": "stdout",
     "output_type": "stream",
     "text": [
      "Epoch 8/10 (Train) - Loss: 0.1188 Training Set Accuracy 96.054\n"
     ]
    },
    {
     "name": "stderr",
     "output_type": "stream",
     "text": [
      "100%|██████████| 3125/3125 [02:52<00:00, 18.09it/s]\n"
     ]
    },
    {
     "name": "stdout",
     "output_type": "stream",
     "text": [
      "Epoch 9/10 (Train) - Loss: 0.1024 Training Set Accuracy 96.599\n"
     ]
    },
    {
     "name": "stderr",
     "output_type": "stream",
     "text": [
      "100%|██████████| 3125/3125 [02:23<00:00, 21.80it/s]"
     ]
    },
    {
     "name": "stdout",
     "output_type": "stream",
     "text": [
      "Epoch 10/10 (Train) - Loss: 0.0891 Training Set Accuracy 97.024\n"
     ]
    },
    {
     "name": "stderr",
     "output_type": "stream",
     "text": [
      "\n"
     ]
    }
   ],
   "source": [
    "num_epochs = 10\n",
    "criterion = nn.CrossEntropyLoss()\n",
    "optimizer = optim.Adam(lstm.parameters(), lr = 1e-3)\n",
    "\n",
    "for epoch in range(num_epochs):\n",
    "    train_loss, accuracy = train_lstm(lstm, elmo, train_loader, optimizer, criterion)\n",
    "    print(f\"Epoch {epoch+1}/{num_epochs} (Train) - Loss: {train_loss:.4f} Training Set Accuracy {accuracy*100}\")"
   ]
  },
  {
   "cell_type": "code",
   "execution_count": 58,
   "metadata": {},
   "outputs": [
    {
     "data": {
      "text/plain": [
       "(tensor([0.2493, 0.3161, 0.4346], grad_fn=<SoftmaxBackward0>),\n",
       " Parameter containing:\n",
       " tensor(1.6485, requires_grad=True))"
      ]
     },
     "execution_count": 58,
     "metadata": {},
     "output_type": "execute_result"
    }
   ],
   "source": [
    "nn.functional.softmax(lstm.weights, dim = 0), lstm.gamma"
   ]
  },
  {
   "cell_type": "code",
   "execution_count": 41,
   "metadata": {},
   "outputs": [],
   "source": [
    "torch.save(lstm.state_dict(), 'classifier.pt')"
   ]
  },
  {
   "cell_type": "code",
   "execution_count": 78,
   "metadata": {},
   "outputs": [
    {
     "name": "stderr",
     "output_type": "stream",
     "text": [
      "100%|██████████| 157/157 [00:02<00:00, 68.60it/s]"
     ]
    },
    {
     "name": "stdout",
     "output_type": "stream",
     "text": [
      "Accuracy = 89.78\n",
      "Recall = 89.78\n",
      "F1-Score = 89.79872608594803\n",
      "Precision = 89.94152474201607\n",
      "Confusion Matrix: \n",
      "[[1124   10   30   35]\n",
      " [  50 1243   12   13]\n",
      " [  64    9 1011   81]\n",
      " [  48    8  151 1111]]\n",
      "\n"
     ]
    },
    {
     "name": "stderr",
     "output_type": "stream",
     "text": [
      "\n"
     ]
    }
   ],
   "source": [
    "true_labels, predicted_labels = evaluate_lstm(lstm, elmo, test_loader)\n",
    "evaluation_metrics(true_labels=true_labels, predicted_labels=predicted_labels)"
   ]
  },
  {
   "cell_type": "markdown",
   "metadata": {},
   "source": [
    "#### Frozen Lambdas"
   ]
  },
  {
   "cell_type": "code",
   "execution_count": 75,
   "metadata": {},
   "outputs": [
    {
     "name": "stdout",
     "output_type": "stream",
     "text": [
      "Parameter containing:\n",
      "tensor([0.7442, 0.1868, 0.0690], requires_grad=True) Parameter containing:\n",
      "tensor(1., requires_grad=True)\n",
      "For Initial Weights = tensor([0.7442, 0.1868, 0.0690])\n",
      "\n",
      "\n",
      "Training the Model\n",
      "\n"
     ]
    },
    {
     "name": "stderr",
     "output_type": "stream",
     "text": [
      "100%|██████████| 3125/3125 [02:23<00:00, 21.83it/s]\n"
     ]
    },
    {
     "name": "stdout",
     "output_type": "stream",
     "text": [
      "Epoch 1/10 (Train) - Loss: 0.7529 Training Set Accuracy 67.105\n"
     ]
    },
    {
     "name": "stderr",
     "output_type": "stream",
     "text": [
      "100%|██████████| 3125/3125 [02:22<00:00, 21.90it/s]\n"
     ]
    },
    {
     "name": "stdout",
     "output_type": "stream",
     "text": [
      "Epoch 2/10 (Train) - Loss: 0.3443 Training Set Accuracy 87.864\n"
     ]
    },
    {
     "name": "stderr",
     "output_type": "stream",
     "text": [
      "100%|██████████| 3125/3125 [02:19<00:00, 22.43it/s]\n"
     ]
    },
    {
     "name": "stdout",
     "output_type": "stream",
     "text": [
      "Epoch 3/10 (Train) - Loss: 0.2972 Training Set Accuracy 89.483\n"
     ]
    },
    {
     "name": "stderr",
     "output_type": "stream",
     "text": [
      "100%|██████████| 3125/3125 [02:20<00:00, 22.27it/s]\n"
     ]
    },
    {
     "name": "stdout",
     "output_type": "stream",
     "text": [
      "Epoch 4/10 (Train) - Loss: 0.2659 Training Set Accuracy 90.59700000000001\n"
     ]
    },
    {
     "name": "stderr",
     "output_type": "stream",
     "text": [
      "100%|██████████| 3125/3125 [02:22<00:00, 21.91it/s]\n"
     ]
    },
    {
     "name": "stdout",
     "output_type": "stream",
     "text": [
      "Epoch 5/10 (Train) - Loss: 0.2381 Training Set Accuracy 91.582\n"
     ]
    },
    {
     "name": "stderr",
     "output_type": "stream",
     "text": [
      "100%|██████████| 3125/3125 [02:23<00:00, 21.77it/s]\n"
     ]
    },
    {
     "name": "stdout",
     "output_type": "stream",
     "text": [
      "Epoch 6/10 (Train) - Loss: 0.2110 Training Set Accuracy 92.54599999999999\n"
     ]
    },
    {
     "name": "stderr",
     "output_type": "stream",
     "text": [
      "100%|██████████| 3125/3125 [02:24<00:00, 21.64it/s]\n"
     ]
    },
    {
     "name": "stdout",
     "output_type": "stream",
     "text": [
      "Epoch 7/10 (Train) - Loss: 0.1860 Training Set Accuracy 93.506\n"
     ]
    },
    {
     "name": "stderr",
     "output_type": "stream",
     "text": [
      "100%|██████████| 3125/3125 [02:22<00:00, 21.87it/s]\n"
     ]
    },
    {
     "name": "stdout",
     "output_type": "stream",
     "text": [
      "Epoch 8/10 (Train) - Loss: 0.1637 Training Set Accuracy 94.337\n"
     ]
    },
    {
     "name": "stderr",
     "output_type": "stream",
     "text": [
      "100%|██████████| 3125/3125 [02:21<00:00, 22.15it/s]\n"
     ]
    },
    {
     "name": "stdout",
     "output_type": "stream",
     "text": [
      "Epoch 9/10 (Train) - Loss: 0.1455 Training Set Accuracy 94.931\n"
     ]
    },
    {
     "name": "stderr",
     "output_type": "stream",
     "text": [
      "100%|██████████| 3125/3125 [02:21<00:00, 22.08it/s]\n"
     ]
    },
    {
     "name": "stdout",
     "output_type": "stream",
     "text": [
      "Epoch 10/10 (Train) - Loss: 0.1298 Training Set Accuracy 95.50699999999999\n",
      "Parameter containing:\n",
      "tensor([0.7442, 0.1868, 0.0690]) Parameter containing:\n",
      "tensor(1.)\n",
      "Testing the Model on Test Set\n"
     ]
    },
    {
     "name": "stderr",
     "output_type": "stream",
     "text": [
      "100%|██████████| 157/157 [00:02<00:00, 60.46it/s]"
     ]
    },
    {
     "name": "stdout",
     "output_type": "stream",
     "text": [
      "Accuracy = 88.78\n",
      "Recall = 88.78\n",
      "F1-Score = 88.80254126888259\n",
      "Precision = 88.9050533896645\n",
      "Confusion Matrix: \n",
      "[[1131   18   43   43]\n",
      " [  47 1229   15   18]\n",
      " [  57    9  992   92]\n",
      " [  51   14  154 1087]]\n",
      "\n"
     ]
    },
    {
     "name": "stderr",
     "output_type": "stream",
     "text": [
      "\n"
     ]
    }
   ],
   "source": [
    "output_dim = train_data['Class Index'].unique().shape[0]\n",
    "embedding_dim = 200\n",
    "hidden_dim = 200\n",
    "num_epochs = 10\n",
    "\n",
    "lstm1 = LSTM(output_dim, embedding_dim, hidden_dim).to(device)\n",
    "initial_weights = torch.randn(3, dtype = torch.float32, device = device)\n",
    "initial_weights = nn.functional.softmax(initial_weights, dim = 0)\n",
    "lstm1.weights = torch.nn.Parameter(initial_weights)\n",
    "print(lstm1.weights, lstm1.gamma)\n",
    "\n",
    "# Freeze the weights\n",
    "lstm1.weights.requires_grad = False\n",
    "lstm1.gamma.requires_grad = False\n",
    "\n",
    "criterion = nn.CrossEntropyLoss()\n",
    "optimizer = optim.Adam(lstm1.parameters(), lr = 1e-3)\n",
    "\n",
    "\n",
    "print(f\"For Initial Weights = {initial_weights}\\n\\n\")\n",
    "\n",
    "print(\"Training the Model\\n\")\n",
    "for epoch in range(num_epochs):\n",
    "    train_loss, accuracy = train_lstm(lstm1, elmo, train_loader, optimizer, criterion)\n",
    "    print(f\"Epoch {epoch+1}/{num_epochs} (Train) - Loss: {train_loss:.4f} Training Set Accuracy {accuracy*100}\")\n",
    "\n",
    "print(lstm1.weights, lstm1.gamma)\n",
    "\n",
    "print(\"Testing the Model on Test Set\")\n",
    "true_labels, predicted_labels = evaluate_lstm(lstm1, elmo, test_loader)\n",
    "evaluation_metrics(true_labels=true_labels, predicted_labels=predicted_labels)"
   ]
  },
  {
   "cell_type": "code",
   "execution_count": 79,
   "metadata": {},
   "outputs": [
    {
     "name": "stderr",
     "output_type": "stream",
     "text": [
      "100%|██████████| 3125/3125 [00:49<00:00, 62.54it/s]\n"
     ]
    },
    {
     "name": "stdout",
     "output_type": "stream",
     "text": [
      "Accuracy = 94.829\n",
      "Recall = 94.829\n",
      "F1-Score = 94.83753983076268\n",
      "Precision = 94.93347362900482\n",
      "Confusion Matrix: \n",
      "[[23281    50   284   272]\n",
      " [  481 24875   152   131]\n",
      " [  743    42 22599   582]\n",
      " [  527    53  1854 24074]]\n",
      "\n"
     ]
    }
   ],
   "source": [
    "true_labels, predicted_labels = evaluate_lstm(lstm, elmo, train_loader)\n",
    "evaluation_metrics(true_labels=true_labels, predicted_labels=predicted_labels)"
   ]
  },
  {
   "cell_type": "code",
   "execution_count": 80,
   "metadata": {},
   "outputs": [
    {
     "name": "stderr",
     "output_type": "stream",
     "text": [
      "100%|██████████| 3125/3125 [00:52<00:00, 59.38it/s]\n"
     ]
    },
    {
     "name": "stdout",
     "output_type": "stream",
     "text": [
      "Accuracy = 93.42\n",
      "Recall = 93.42\n",
      "F1-Score = 93.42824243025008\n",
      "Precision = 93.54659342881327\n",
      "Confusion Matrix: \n",
      "[[23447   177   506   488]\n",
      " [  352 24630   162   146]\n",
      " [  625    91 21730   812]\n",
      " [  608   122  2491 23613]]\n",
      "\n"
     ]
    }
   ],
   "source": [
    "true_labels, predicted_labels = evaluate_lstm(lstm1, elmo, train_loader)\n",
    "evaluation_metrics(true_labels=true_labels, predicted_labels=predicted_labels)"
   ]
  },
  {
   "cell_type": "markdown",
   "metadata": {},
   "source": [
    "**Learnable Function** - The Input Sequence is passed to the ELMO model for the generation of the 3 embeddings (Forward, Backward and Glove Embeddings). Then, simply a Linear Combination of Vectors obtained is done with the appropriate Trained scaling factor to create the Final Contextualized Embedding. So, the final mathematical representation of the Embeddings are as follows:\n",
    "\n",
    "Forward, Backward, Glove Embeddings = ELMO Model(Input Sequnce)\n",
    "\n",
    "Contextualized Embedding = (0.2493**Forward** + 0.3161**Backward** + 0.4346**Glove Embeddings**)1.6485 for Trainable Weights Case.\n",
    "\n",
    "Contextualized Embedding = (0.7442**Forward** + 0.1868**Backward** + 0.0690**Glove Embeddings**)1 for Frozen Weights Case."
   ]
  },
  {
   "cell_type": "code",
   "execution_count": 81,
   "metadata": {},
   "outputs": [
    {
     "data": {
      "text/plain": [
       "[]"
      ]
     },
     "execution_count": 81,
     "metadata": {},
     "output_type": "execute_result"
    },
    {
     "data": {
      "image/png": "[encoded data removed]",
      "text/plain": [
       "<Figure size 640x480 with 1 Axes>"
      ]
     },
     "metadata": {},
     "output_type": "display_data"
    }
   ],
   "source": [
    "import matplotlib.pyplot as plt\n",
    "\n",
    "accuracies = [69.708, 88.78, 90.593, 91.955, 93.189, 94.316, 95.185, 96.054, 96.599, 97.024]\n",
    "epochs = np.arange(10)+1\n",
    "plt.scatter(accuracies, epochs)\n",
    "plt.plot()"
   ]
  },
  {
   "cell_type": "code",
   "execution_count": 82,
   "metadata": {},
   "outputs": [
    {
     "data": {
      "text/plain": [
       "[]"
      ]
     },
     "execution_count": 82,
     "metadata": {},
     "output_type": "execute_result"
    },
    {
     "data": {
      "image/png": "[encoded data removed]",
      "text/plain": [
       "<Figure size 640x480 with 1 Axes>"
      ]
     },
     "metadata": {},
     "output_type": "display_data"
    }
   ],
   "source": [
    "accuracies = [67.105, 87.864, 89.483, 90.59700000000001, 91.582, 92.54599999999999, 93.506, 94.337, 94.931, 95.50699999999999]\n",
    "epochs = np.arange(10)+1\n",
    "plt.scatter(accuracies, epochs, color = 'pink')\n",
    "plt.plot()"
   ]
  }
 ],
 "metadata": {
  "kernelspec": {
   "display_name": "Python 3",
   "language": "python",
   "name": "python3"
  },
  "language_info": {
   "codemirror_mode": {
    "name": "ipython",
    "version": 3
   },
   "file_extension": ".py",
   "mimetype": "text/x-python",
   "name": "python",
   "nbconvert_exporter": "python",
   "pygments_lexer": "ipython3",
   "version": "3.10.12"
  }
 },
 "nbformat": 4,
 "nbformat_minor": 2
}
